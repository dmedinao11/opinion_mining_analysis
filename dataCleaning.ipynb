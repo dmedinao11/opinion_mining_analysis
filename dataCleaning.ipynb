{
  "nbformat": 4,
  "nbformat_minor": 0,
  "metadata": {
    "colab": {
      "name": "dataCleaning.ipynb",
      "provenance": []
    },
    "kernelspec": {
      "name": "python3",
      "display_name": "Python 3"
    }
  },
  "cells": [
    {
      "cell_type": "markdown",
      "metadata": {
        "id": "dtmg8YSTd1cZ"
      },
      "source": [
        "# **Limpieza de datos**"
      ]
    },
    {
      "cell_type": "code",
      "metadata": {
        "id": "cyrwLnz1PpQF"
      },
      "source": [
        "import pandas as pd\n",
        "\n",
        "df = pd.read_csv('output.csv')"
      ],
      "execution_count": 77,
      "outputs": []
    },
    {
      "cell_type": "markdown",
      "metadata": {
        "id": "nLYPCd5sd-BB"
      },
      "source": [
        "**Eliminando columnas sin importancia**"
      ]
    },
    {
      "cell_type": "code",
      "metadata": {
        "id": "GPq8Zfg4RPR-"
      },
      "source": [
        "df.drop(['conversation_id', 'created_at', \"time\",\t\"timezone\", \"user_id\",\t\"username\",\t\"name\",\t\"place\", \"mentions\",\t\"urls\"\t,\"photos\",\t\"replies_count\",\t\"retweets_count\",\t\"likes_count\"\t,\"hashtags\"\t,\"cashtags\", \"retweet\", \"quote_url\",\t\"video\",\t\"thumbnail\",\"source\" ,\"near\"\t,\"user_rt_id\",\"user_rt\",\"retweet_id\"\t,\"reply_to\"\t,\"retweet_date\"\t,\"translate\"\t,\"trans_src\"\t,\"trans_dest\"  ], axis=1, inplace=True)"
      ],
      "execution_count": 78,
      "outputs": []
    },
    {
      "cell_type": "markdown",
      "metadata": {
        "id": "dD8O4MtkeF-J"
      },
      "source": [
        "**Eliminando datos repetidos**"
      ]
    },
    {
      "cell_type": "code",
      "metadata": {
        "id": "kvNHJPZqUAgl"
      },
      "source": [
        "df.drop_duplicates(subset =\"id\", keep = False, inplace = True)\n",
        "df = df.set_index(\"id\")"
      ],
      "execution_count": 79,
      "outputs": []
    },
    {
      "cell_type": "markdown",
      "metadata": {
        "id": "Kj0rZm-PeQm7"
      },
      "source": [
        "**Eliminando lenguajes diferentes al Español e inglés**"
      ]
    },
    {
      "cell_type": "code",
      "metadata": {
        "id": "crbNn8I0cLAT"
      },
      "source": [
        "df = df[(df['language'] == \"es\") | (df['language'] == \"en\")] "
      ],
      "execution_count": 83,
      "outputs": []
    },
    {
      "cell_type": "code",
      "metadata": {
        "id": "FNy9sU1reePp",
        "outputId": "f8fb931e-0221-49a1-bb1e-061a626539f4",
        "colab": {
          "base_uri": "https://localhost:8080/"
        }
      },
      "source": [
        "len(df.index)"
      ],
      "execution_count": 84,
      "outputs": [
        {
          "output_type": "execute_result",
          "data": {
            "text/plain": [
              "3555"
            ]
          },
          "metadata": {
            "tags": []
          },
          "execution_count": 84
        }
      ]
    }
  ]
}